{
  "nbformat": 4,
  "nbformat_minor": 0,
  "metadata": {
    "colab": {
      "name": "Question_1.ipynb",
      "provenance": [],
      "authorship_tag": "ABX9TyM6V1aI3rodYT9Q+mH3P3Xq",
      "include_colab_link": true
    },
    "kernelspec": {
      "name": "python3",
      "display_name": "Python 3"
    }
  },
  "cells": [
    {
      "cell_type": "markdown",
      "metadata": {
        "id": "view-in-github",
        "colab_type": "text"
      },
      "source": [
        "<a href=\"https://colab.research.google.com/github/ShivamCholin/CS6910_Assignment_1/blob/main/Question_1.ipynb\" target=\"_parent\"><img src=\"https://colab.research.google.com/assets/colab-badge.svg\" alt=\"Open In Colab\"/></a>"
      ]
    },
    {
      "cell_type": "code",
      "metadata": {
        "id": "J5o2c9TmqnrY"
      },
      "source": [
        "import random          \r\n",
        "import numpy as np      \r\n",
        "from time import time"
      ],
      "execution_count": null,
      "outputs": []
    },
    {
      "cell_type": "code",
      "metadata": {
        "id": "YDnsoSIYqwv1"
      },
      "source": [
        "import keras\r\n",
        "def change_y(j):\r\n",
        "    e = np.zeros((10, 1))\r\n",
        "    e[j] = 1.0\r\n",
        "    return e\r\n",
        "fashion_mnist = keras.datasets.fashion_mnist\r\n",
        "(x_tr,y_tr), (x_te,y_te) = fashion_mnist.load_data()"
      ],
      "execution_count": null,
      "outputs": []
    },
    {
      "cell_type": "code",
      "metadata": {
        "id": "zagYGSD01e-t"
      },
      "source": [
        "\r\n",
        "import wandb\r\n",
        "wandb.init(project='assignemnt-1-cs6910', entity='cs20m061')\r\n",
        "CLASS_NAMES = ['T-shirt/top', 'Trouser', 'Pullover', 'Dress', 'Coat', \r\n",
        "               'Sandal',      'Shirt',   'Sneaker',  'Bag',   'Ankle boot']\r\n",
        "L=[]\r\n",
        "i=0\r\n",
        "for x in range(0,len(y_tr)):\r\n",
        "  if y_tr[x]==i:\r\n",
        "    wandb.log({\"images1012\": [wandb.Image(x_tr[x], caption=CLASS_NAMES[i])]})\r\n",
        "    break"
      ],
      "execution_count": null,
      "outputs": []
    }
  ]
}