{
  "nbformat": 4,
  "nbformat_minor": 0,
  "metadata": {
    "colab": {
      "name": "Question_1.ipynb",
      "provenance": [],
      "authorship_tag": "ABX9TyNrD3UA1FGa5dAYeyWXmbdo",
      "include_colab_link": true
    },
    "kernelspec": {
      "name": "python3",
      "display_name": "Python 3"
    }
  },
  "cells": [
    {
      "cell_type": "markdown",
      "metadata": {
        "id": "view-in-github",
        "colab_type": "text"
      },
      "source": [
        "<a href=\"https://colab.research.google.com/github/ShivamCholin/FeedForward_NeuralNetwork/blob/main/Question_1.ipynb\" target=\"_parent\"><img src=\"https://colab.research.google.com/assets/colab-badge.svg\" alt=\"Open In Colab\"/></a>"
      ]
    },
    {
      "cell_type": "code",
      "metadata": {
        "id": "J5o2c9TmqnrY"
      },
      "source": [
        "import random          \r\n",
        "import numpy as np      \r\n",
        "from time import time"
      ],
      "execution_count": null,
      "outputs": []
    },
    {
      "cell_type": "code",
      "metadata": {
        "id": "YDnsoSIYqwv1"
      },
      "source": [
        "import keras\r\n",
        "def change_y(j):\r\n",
        "    e = np.zeros((10, 1))\r\n",
        "    e[j] = 1.0\r\n",
        "    return e\r\n",
        "fashion_mnist = keras.datasets.fashion_mnist\r\n",
        "(x_tr,y_tr), (x_te,y_te) = fashion_mnist.load_data()"
      ],
      "execution_count": null,
      "outputs": []
    },
    {
      "cell_type": "code",
      "metadata": {
        "id": "GmbmDDyGaSY9"
      },
      "source": [
        "sweep_config = {\r\n",
        "  \"name\": \"fashion_mnist classes\",\r\n",
        "  \"method\": \"grid\",\r\n",
        "  \"parameters\": {\r\n",
        "        \"f_classes\": {\r\n",
        "            \"value\": [i for i in range(10)]\r\n",
        "        }\r\n",
        "    }\r\n",
        "}"
      ],
      "execution_count": null,
      "outputs": []
    },
    {
      "cell_type": "code",
      "metadata": {
        "id": "3nq1NtCOao1U"
      },
      "source": [
        "!pip install wandb\r\n",
        "import wandb"
      ],
      "execution_count": null,
      "outputs": []
    },
    {
      "cell_type": "code",
      "metadata": {
        "id": "ZG8vhqiZammZ"
      },
      "source": [
        "sweep_id=wandb.sweep(sweep_config, project='assignemnt-1-cs6910', entity='cs20m061')"
      ],
      "execution_count": null,
      "outputs": []
    },
    {
      "cell_type": "code",
      "metadata": {
        "id": "zagYGSD01e-t"
      },
      "source": [
        "\r\n",
        "CLASS_NAMES = ['T-shirt/top', 'Trouser', 'Pullover', 'Dress', 'Coat', \r\n",
        "               'Sandal',      'Shirt',   'Sneaker',  'Bag',   'Ankle boot']\r\n",
        "def Get_images():\r\n",
        "  L=[]\r\n",
        "  config_defaults={\r\n",
        "        \"f_classes\":0,\r\n",
        "    }\r\n",
        "  wandb.init(config=config_defaults)\r\n",
        "  config=wandb.config\r\n",
        "  i=config.f_classes\r\n",
        "  for x in range(0,len(y_tr)):\r\n",
        "    if y_tr[x]==i:\r\n",
        "      wandb.init(project='assignemnt-1-cs6910', entity='cs20m061',name=CLASS_NAMES[i])\r\n",
        "      wandb.log({\"images101234\": [wandb.Image(x_tr[x], caption=CLASS_NAMES[i])]})\r\n",
        "      break"
      ],
      "execution_count": null,
      "outputs": []
    },
    {
      "cell_type": "code",
      "metadata": {
        "id": "q8IaeM1KHN-P"
      },
      "source": [
        "wandb.finish()"
      ],
      "execution_count": null,
      "outputs": []
    }
  ]
}